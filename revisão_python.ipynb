{
  "nbformat": 4,
  "nbformat_minor": 0,
  "metadata": {
    "colab": {
      "name": "revisão_python.ipynb",
      "provenance": [],
      "authorship_tag": "ABX9TyOE6cWy+OfF1FEnvCb97tet",
      "include_colab_link": true
    },
    "kernelspec": {
      "name": "python3",
      "display_name": "Python 3"
    },
    "language_info": {
      "name": "python"
    }
  },
  "cells": [
    {
      "cell_type": "markdown",
      "metadata": {
        "id": "view-in-github",
        "colab_type": "text"
      },
      "source": [
        "<a href=\"https://colab.research.google.com/github/lucabeca/python/blob/master/revis%C3%A3o_python.ipynb\" target=\"_parent\"><img src=\"https://colab.research.google.com/assets/colab-badge.svg\" alt=\"Open In Colab\"/></a>"
      ]
    },
    {
      "cell_type": "markdown",
      "metadata": {
        "id": "Z8TcDUgZHAT7"
      },
      "source": [
        "Exercício 1 - faça um programa que peça dois números inteiros e imprima a soma desses dois números"
      ]
    },
    {
      "cell_type": "code",
      "metadata": {
        "id": "AXh_WJTADLwI"
      },
      "source": [
        "a = int(input(\"Informe o primeiro número: \")) #entrada do tipo INT, para números inteiros\n",
        "b = int(input(\"Informe o segundo número: \"))\n",
        "print(\"A soma dos valores informados é\", a + b)"
      ],
      "execution_count": null,
      "outputs": []
    },
    {
      "cell_type": "markdown",
      "metadata": {
        "id": "Y2zpCTGNIL7H"
      },
      "source": [
        "Exercício 2 - escreva um programa que leia um valor em metros e o exiba convertido em milímetros"
      ]
    },
    {
      "cell_type": "code",
      "metadata": {
        "id": "bgtqyOFWHHxo"
      },
      "source": [
        "metros = eval(input(\"Insira o valor em metros: \")) #entrada do tipo EVAL, que permite int, float e operações\n",
        "if metros != 1: #se metros for diferente de 1 (se for 1, o print não deve estar no plural - metro(s))\n",
        "  print(\"O valor de\", metros, \"metros em milimetros é\", metros * 1000, \"mm\")\n",
        "else: \n",
        "  print(\"O valor de\", metros, \"metro em milimetros é\", metros * 1000, \"mm\")"
      ],
      "execution_count": null,
      "outputs": []
    },
    {
      "cell_type": "markdown",
      "metadata": {
        "id": "1nLhv39wInWH"
      },
      "source": [
        "Exercício 3 - escreva um programa que leia a quantidade de dias, horas, minutos e segundos do usuário. Calcule o total em segundos."
      ]
    },
    {
      "cell_type": "code",
      "metadata": {
        "id": "28h-c0y2IsYE"
      },
      "source": [
        "dias = eval(input(\"Insira o valor de dias: \"))\n",
        "horas = eval(input(\"Insira o valor de horas: \"))\n",
        "minutos = eval(input(\"Insira o valor de minutos: \"))\n",
        "segundos = eval(input(\"Insira o valor de segundos: \"))\n",
        "\n",
        "print(\"O  valor total em segundos é\", (dias * 24 * 60 * 60) + (horas * 60 * 60) + (minutos * 60) + segundos)"
      ],
      "execution_count": null,
      "outputs": []
    },
    {
      "cell_type": "markdown",
      "metadata": {
        "id": "qqKo5-dlKz9Q"
      },
      "source": [
        "Exercício 4 - Faça um programa que calcule o aumento de um salário. Ele deve solicitar o valor do salário e a porcentagem do aumento. Exiba o valor do aumento e do novo salário."
      ]
    },
    {
      "cell_type": "code",
      "metadata": {
        "id": "hHGwQlKWJe5l"
      },
      "source": [
        "base = eval(input(\"Insira o valor do salário inicial: \"))\n",
        "aumento = eval(input(\"Insira o valor de aumento: \"))\n",
        "\n",
        "if aumento > 1: #caso o valor inserido não esteja em porcentagem, o programa realiza o cálculo pra evitar erros\n",
        "  print(\"O novo valor de salário será R${}\".format(round(base * (1 + (aumento/100)), 2))) #varíaveis podem ser utilizadas dentro do print, com {}, a substituição acontece sempre de forma correspondente; round é utilizado para arredondar casas numéricas\n",
        "else:\n",
        "  print(\"O novo valor de salário será R${}\".format(round(base * (1 + aumento), 2)))"
      ],
      "execution_count": null,
      "outputs": []
    },
    {
      "cell_type": "markdown",
      "metadata": {
        "id": "YaSO4aKENxJY"
      },
      "source": [
        "Exercício 5 - Solicite o preço de uma mercadoria e o percentual de desconto. Exiba o valor do desconto e o preço a pagar."
      ]
    },
    {
      "cell_type": "code",
      "metadata": {
        "id": "61lI7maIN0fT"
      },
      "source": [
        "base = eval(input(\"Insira o valor do inicial do produto: \"))\n",
        "desconto = eval(input(\"Insira o valor de desconto: \"))\n",
        "\n",
        "if desconto > 1: #caso o valor inserido não esteja em porcentagem, o programa realiza o cálculo pra evitar erros\n",
        "  print(\"O novo valor do produto será R${}\".format(round(base * (1 - (desconto/100)), 2)))\n",
        "else:\n",
        "  print(\"O novo valor do produto será R${}\".format(round(base * (1 - desconto), 2)))"
      ],
      "execution_count": null,
      "outputs": []
    },
    {
      "cell_type": "markdown",
      "metadata": {
        "id": "PTVm9wpSQdyY"
      },
      "source": [
        "Exercício 6 - Calcule o tempo de uma viagem de carro. Pergunte a distância a percorrer e a velocidade média esparada para a viagem."
      ]
    },
    {
      "cell_type": "code",
      "metadata": {
        "id": "t5BT38VdQe4_"
      },
      "source": [
        "from datetime import timedelta #import da ferramenta timedelta\n",
        "\n",
        "distancia = eval(input(\"Insira a distância a percorrer na viagem (em KM): \"))\n",
        "velocidade = eval(input(\"Insira a velocidade média planejada para a viagem (em KM/H): \"))\n",
        "\n",
        "calc = str(timedelta(hours=distancia / velocidade)) #o timedelta calcula a conversão pra dias, horas, minutos e segundos, a partir de um input em horas\n",
        "calc = calc.replace('days', 'dias') #alterando dentro da string, de days para dias\n",
        "calc = calc.split(':') #separa a string em uma lista, a partir dos :\n",
        "dias_horas = calc[0] #primeiro elemento da lista, este acompanha os dias (caso existam) e as horas. \n",
        "minutos = calc[1]\n",
        "segundos = calc[2]\n",
        "segundos = float(segundos)\n",
        "\n",
        "print(\"O tempo médio será de {} horas, {} minutos e {} segundos\".format(dias_horas, minutos, int(segundos)))\n",
        "print(\"Ou então, {} horas\".format(round(distancia / velocidade, 3)))"
      ],
      "execution_count": null,
      "outputs": []
    },
    {
      "cell_type": "markdown",
      "metadata": {
        "id": "fFZmSh52mfoH"
      },
      "source": [
        "Exercício 7 - Converta uma temperatura digitada em Celsius para Fahrenheit"
      ]
    },
    {
      "cell_type": "code",
      "metadata": {
        "id": "R4DMIf6lmgpD"
      },
      "source": [
        "c = eval(input(\"Insira a temperatura em graus Celsius: \"))\n",
        "\n",
        "print(\"O valor em Fahrenheit é {} graus\".format(round(9 * c/5 + 32,2)))"
      ],
      "execution_count": null,
      "outputs": []
    },
    {
      "cell_type": "markdown",
      "metadata": {
        "id": "S9ZmUDGEnz38"
      },
      "source": [
        "Exercício 8 - faça agora o contrário, de Fahrenheit para Celsius.\n"
      ]
    },
    {
      "cell_type": "code",
      "metadata": {
        "id": "449aWHwNn6bQ"
      },
      "source": [
        "f = eval(input(\"Insira a temperatura em graus Fahrenheit: \"))\n",
        "\n",
        "print(\"O valor em Celsius é {} graus\".format(round((f-32)/1.8)))"
      ],
      "execution_count": null,
      "outputs": []
    },
    {
      "cell_type": "markdown",
      "metadata": {
        "id": "jr5gwFTKpz9J"
      },
      "source": [
        "Exercício 9 - escreva um programa que pergunte a quantidade de km percorridos por um carro alugado pelo usuário, assim como a quantidade de dias pelos quais o carro foi alugado. Calcule o preço a pagar, sabendo que o carro custa R$0,00 por dia e R$ 0,15 por km rodado."
      ]
    },
    {
      "cell_type": "code",
      "metadata": {
        "id": "T4cWf1xEp9kO"
      },
      "source": [
        "dias = eval(input(\"Insira a quantidade de dias: \"))\n",
        "km = eval(input(\"Insira a quantidade de km rodados: \"))\n",
        "\n",
        "print(\"O valor a pagar é de R${}\".format(round(dias * 60 + km * 0.15, 2)))"
      ],
      "execution_count": null,
      "outputs": []
    },
    {
      "cell_type": "markdown",
      "metadata": {
        "id": "JN7YbiICrNvE"
      },
      "source": [
        "Exercício 10 - escreva um programa para calcular a redução do tempo de vida de um fumante. Pergunte a quantidade de cigarros fumados por dia e quantos anos ele já fumou. Considere que um fumante perde 10 minutos de vida a cada cigarro, calcule quantos dias de vida um fumante perderá. Exiba o total de dias."
      ]
    },
    {
      "cell_type": "code",
      "metadata": {
        "id": "tkSWEe6ZrXHQ"
      },
      "source": [
        "from datetime import timedelta #import da ferramenta timedelta\n",
        "\n",
        "por_dia = eval(input(\"Insira a quantidade de cigarros fumados por dia: \"))\n",
        "anos = eval(input(\"Insira a quantidade de anos que você já fuma: \"))\n",
        "\n",
        "conv = str(timedelta(days=365*anos*por_dia*10)/1440) #o timedelta calcula a conversão pra dias, horas, minutos e segundos, a partir de um input em dias\n",
        "conv = conv.replace('days', 'dias') #alterando dentro da string, de days para dias\n",
        "conv = conv.split(\":\")\n",
        "dias_horas = conv[0]\n",
        "minutos = conv[1]\n",
        "segundos = conv[2]\n",
        "segundos = float(segundos)\n",
        "\n",
        "print(f\"Você já perdeu {(365*anos*por_dia*10)/1440:.0f} dias de vida por fumar cigarro.\")\n",
        "print(\"sendo mais específico... {} horas, {} minutos, {} segundos... F\".format(dias_horas, minutos, int(segundos)))"
      ],
      "execution_count": null,
      "outputs": []
    },
    {
      "cell_type": "markdown",
      "metadata": {
        "id": "n6vuet7fvq45"
      },
      "source": [
        "Exercício 11 - sabendo que str() converte valores númericos para string, calcule quantos dígitos há em 2 elevado a um milhão."
      ]
    },
    {
      "cell_type": "code",
      "metadata": {
        "id": "ghgLuko8vvHl"
      },
      "source": [
        "print(\"Em 2 elevado há um milhão há {} dígitos.\".format(len(str(2**1000000)))) ## ** significa elevado, len faz a contagem de dígitos de uma string"
      ],
      "execution_count": null,
      "outputs": []
    }
  ]
}