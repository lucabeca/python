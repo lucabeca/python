{
  "nbformat": 4,
  "nbformat_minor": 0,
  "metadata": {
    "colab": {
      "name": "Lucas Augusto - Lista repetições.ipynb",
      "provenance": [],
      "include_colab_link": true
    },
    "kernelspec": {
      "name": "python3",
      "display_name": "Python 3"
    },
    "language_info": {
      "name": "python"
    }
  },
  "cells": [
    {
      "cell_type": "markdown",
      "metadata": {
        "id": "view-in-github",
        "colab_type": "text"
      },
      "source": [
        "<a href=\"https://colab.research.google.com/github/lucabeca/python/blob/master/Lucas_Augusto_Lista_repeti%C3%A7%C3%B5es.ipynb\" target=\"_parent\"><img src=\"https://colab.research.google.com/assets/colab-badge.svg\" alt=\"Open In Colab\"/></a>"
      ]
    },
    {
      "cell_type": "code",
      "metadata": {
        "id": "KtzaaUmITl9_"
      },
      "source": [
        "Exercício 1 - Faça um algoritmo que:\n",
        "• leia 20 números inteiros;\n",
        "• escreva os números que são negativos;\n",
        "• escreva a média dos números positivos."
      ],
      "execution_count": null,
      "outputs": []
    },
    {
      "cell_type": "code",
      "metadata": {
        "id": "0dVREQX5T-rv"
      },
      "source": [
        "import random\n",
        "\n",
        "media = 0\n",
        "valores = []\n",
        "\n",
        "for i in range(20):\n",
        "  valores.append(randint(-1000, 1000))\n",
        "\n",
        "for n in valores:\n",
        "  if n < 0:\n",
        "    print(n)\n",
        "  elif n > 0:\n",
        "    media = media + n\n",
        "\n",
        "print(\"\\nA média dos números positivos foi\", media / len(valores))"
      ],
      "execution_count": null,
      "outputs": []
    },
    {
      "cell_type": "markdown",
      "metadata": {
        "id": "bS8J6r6gdzrw"
      },
      "source": [
        "Exercício 2 - Faça um algoritmo que leia 15 números inteiros e escreva, para cada número lido, se é\n",
        "par ou ímpar."
      ]
    },
    {
      "cell_type": "code",
      "metadata": {
        "id": "8qt0fxOad3fD"
      },
      "source": [
        "import random\n",
        "valores = []\n",
        "\n",
        "for i in range(15):\n",
        "  valores.append(randint(-1000, 1000))\n",
        "\n",
        "for n in valores:\n",
        "  if n % 2 == 0:\n",
        "    print('O número {} é par'.format(n))\n",
        "  else:\n",
        "    print('O número {} é impar'.format(n))"
      ],
      "execution_count": null,
      "outputs": []
    },
    {
      "cell_type": "markdown",
      "metadata": {
        "id": "XdceqtQ6enEf"
      },
      "source": [
        "Exercício 3 - Dado um conjunto de valores inteiros positivos, determinar qual o menor e qual o\n",
        "maior valor do conjunto. Um número com valor “0” (zero) indica o fim dos dados e\n",
        "não deve ser considerado."
      ]
    },
    {
      "cell_type": "code",
      "metadata": {
        "id": "YPd_yHOqerBn"
      },
      "source": [
        "maior = 0\n",
        "menor = 0\n",
        "i = 1\n",
        "\n",
        "while i != 0:\n",
        "  i = int(input(\"Insira o valor: \"))\n",
        "  if i != 0:\n",
        "    if i > maior:\n",
        "      maior = i\n",
        "    elif i > menor:\n",
        "      menor = i\n",
        "\n",
        "if menor == 0 and maior == 0:\n",
        "  print('Não foram especificados números o suficiente.')\n",
        "else: print('O maior número foi {}, e o menor foi {}'.format(maior, menor))"
      ],
      "execution_count": null,
      "outputs": []
    },
    {
      "cell_type": "code",
      "metadata": {
        "id": "f0nHxzRDkDfV"
      },
      "source": [
        "Exercício 4 - Faça um algoritmo que calcule e escreva a soma dos números pares e a soma dos\n",
        "números ímpares entre 1 e 100."
      ],
      "execution_count": null,
      "outputs": []
    },
    {
      "cell_type": "code",
      "metadata": {
        "id": "BjqOciS3kH4r"
      },
      "source": [
        "somapar = 0\n",
        "somaimpar = 0\n",
        "\n",
        "for n in range(1, 101):\n",
        "  if n % 2 == 0:\n",
        "    somapar = somapar + n\n",
        "  else:\n",
        "    somaimpar = somaimpar + n\n",
        "\n",
        "print(\"A soma dos pares deu {}, e a dos ímpares {}.\".format(somapar, somaimpar))"
      ],
      "execution_count": null,
      "outputs": []
    },
    {
      "cell_type": "code",
      "metadata": {
        "id": "JIfJ9Ep_lNso"
      },
      "source": [
        "Exercício 5 - Faça um algoritmo que leia a altura de 20 pessoas e calcule a média aritmética das\n",
        "alturas."
      ],
      "execution_count": null,
      "outputs": []
    },
    {
      "cell_type": "code",
      "metadata": {
        "id": "8oybJQAjlzgT"
      },
      "source": [
        "import random\n",
        "\n",
        "media = 0\n",
        "alturas = []\n",
        "\n",
        "for i in range(20):\n",
        "  alturas.append(randint(randint(140, 170), randint(171, 210)) / 100)\n",
        "\n",
        "for n in alturas:\n",
        "  media = media + n\n",
        "\n",
        "print(\"A média de altura entre as alturas {}\\né {}\".format(alturas, round(media / len(alturas),2)))"
      ],
      "execution_count": null,
      "outputs": []
    },
    {
      "cell_type": "markdown",
      "metadata": {
        "id": "CZ5REWfeo_kw"
      },
      "source": [
        "Exercício 6 - Faça um algoritmo que leia n valores inteiros e escreva quantos desses valores são\n",
        "negativos."
      ]
    },
    {
      "cell_type": "code",
      "metadata": {
        "id": "iq5zvP3lpDxc"
      },
      "source": [
        "import random\n",
        "valores = []\n",
        "negativos = 0\n",
        "\n",
        "for i in range(randint(2, 13)):\n",
        "  valores.append(randint(-100, 100))\n",
        "\n",
        "for n in valores:\n",
        "  if n < 0:\n",
        "    negativos += 1\n",
        "\n",
        "if negativos == 1:\n",
        "  print(\"Num total de {} valores, sendo eles {}, {} é negativos.\".format(len(valores), valores, negativos))\n",
        "else: print(\"Num total de {} valores, sendo eles {}, {} são negativos.\".format(len(valores), valores, negativos))"
      ],
      "execution_count": null,
      "outputs": []
    },
    {
      "cell_type": "markdown",
      "metadata": {
        "id": "tNgRxRHrruhY"
      },
      "source": [
        "Exercício 7 - Faça um algoritmo que leia a quantidade de tinta que uma caneta, e enquanto a\n",
        "caneta tiver tinta para escrever, escreva “Enquanto tem tinta a caneta escreve...”.\n",
        "Considere que a cada comando de escrita a caneta gasta 2% da tinta que possui."
      ]
    },
    {
      "cell_type": "code",
      "metadata": {
        "id": "hhoUhsCbrxCI"
      },
      "source": [
        "import time\n",
        "\n",
        "inicial = eval(input(\"Insira a quantidade de tinta (em ML) que a caneta tem: \"))\n",
        "tinta = inicial\n",
        "\n",
        "while tinta > 0:\n",
        "  tinta = tinta - inicial * 0.02\n",
        "  time.sleep(0.75)\n",
        "  print('\\x1B[3mEnquanto tem tinta a caneta escreve... (resta: {}ml)\\x1B[23m'.format(round(tinta, 2)))"
      ],
      "execution_count": null,
      "outputs": []
    }
  ]
}