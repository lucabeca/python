{
  "nbformat": 4,
  "nbformat_minor": 0,
  "metadata": {
    "colab": {
      "name": "lista 2.ipynb",
      "provenance": [],
      "authorship_tag": "ABX9TyPaZ80sWro08dhCc5We88vi",
      "include_colab_link": true
    },
    "kernelspec": {
      "name": "python3",
      "display_name": "Python 3"
    },
    "language_info": {
      "name": "python"
    }
  },
  "cells": [
    {
      "cell_type": "markdown",
      "metadata": {
        "id": "view-in-github",
        "colab_type": "text"
      },
      "source": [
        "<a href=\"https://colab.research.google.com/github/lucabeca/python/blob/master/lista_2.ipynb\" target=\"_parent\"><img src=\"https://colab.research.google.com/assets/colab-badge.svg\" alt=\"Open In Colab\"/></a>"
      ]
    },
    {
      "cell_type": "markdown",
      "metadata": {
        "id": "qaxEzvoh7M5d"
      },
      "source": [
        "Exercício 1 - Faça um Programa que peça os três lados de um triângulo. O programa deverá informar se os valores podem ser\n",
        "um triângulo. Indique, caso os lados formem um triângulo, se o mesmo é: equilátero, isósceles ou escaleno."
      ]
    },
    {
      "cell_type": "code",
      "metadata": {
        "id": "jXSgF2aL31Z0"
      },
      "source": [
        "a = eval(input(\"Insira o primeiro valor: \")) \n",
        "b = eval(input(\"Insira o segundo valor: \")) \n",
        "c = eval(input(\"Insira o terceiro valor: \")) \n",
        "\n",
        "if (b + c) < a or (a + c) < b or (a + b) < c:\n",
        "  print(\"Não forma um triângulo\")\n",
        "elif (a == b) and (b == c):\n",
        "  print(\"Triângulo equilátero\")\n",
        "elif (a == b) or (b == c) or (a == c):\n",
        "  print(\"Triângulo isósceles\")\n",
        "else:\n",
        "   print(\"Triângulo escaleno\")"
      ],
      "execution_count": null,
      "outputs": []
    },
    {
      "cell_type": "code",
      "metadata": {
        "id": "az7vIqQE8aU8"
      },
      "source": [
        "Exercício 2 - Determine se um ano é bissexto. Verifique no Google como fazer isso..."
      ],
      "execution_count": null,
      "outputs": []
    },
    {
      "cell_type": "code",
      "metadata": {
        "id": "JpU4hk__8jNw"
      },
      "source": [
        "ano = eval(input(\"Insira o ano: \"))\n",
        "\n",
        "if (ano % 4 == 0 and ano % 100 != 0) or ano % 400 == 0:   \n",
        "  print(ano, \"ano bissexto\")\n",
        "else:\n",
        "  print(ano, \"ano não bissexto\") "
      ],
      "execution_count": null,
      "outputs": []
    },
    {
      "cell_type": "code",
      "metadata": {
        "id": "E-uGnqS49Yic"
      },
      "source": [
        "Exercício 3 - João Papo-de-Pescador, homem de bem, comprou um microcomputador para controlar o rendimento diário de\n",
        "seu trabalho. Toda vez que ele traz um peso de peixes maior que o estabelecido pelo regulamento de pesca do\n",
        "estado de São Paulo (50 quilos) deve pagar uma multa de R$ 4,00 por quilo excedente. João precisa que você\n",
        "faça um programa que leia a variável peso (peso de peixes) e verifique se há excesso. Se houver, gravar na\n",
        "variável excesso e na variável multa o valor da multa que João deverá pagar. Caso contrário mostrar tais\n",
        "variáveis com o conteúdo ZERO."
      ],
      "execution_count": null,
      "outputs": []
    },
    {
      "cell_type": "code",
      "metadata": {
        "id": "4jepbBnA9asn"
      },
      "source": [
        "peso = eval(input(\"Insira o valor (em kg) da pescaria do dia: \"))\n",
        "excesso = 0\n",
        "multa = 0\n",
        "\n",
        "if peso > 50:\n",
        "  excesso = peso - 50\n",
        "  multa = excesso * 4\n",
        "  if excesso == 1: print(\"O excesso foi de {} kilo, portanto a multa é de R${}\".format(excesso, multa))\n",
        "  else: print(\"O excesso foi de {} kilos, portanto a multa é de R${}\".format(excesso, multa))\n",
        "else:\n",
        "  excesso = 0\n",
        "  multa = 0\n",
        "  print(\"Não há excesso, portanto não há multa. R: {}, {}\".format(excesso, multa))"
      ],
      "execution_count": null,
      "outputs": []
    },
    {
      "cell_type": "code",
      "metadata": {
        "id": "Nf9LmesT-o2Y"
      },
      "source": [
        "Exercício 4 - Faça um Programa que leia três números e mostre o maior deles."
      ],
      "execution_count": null,
      "outputs": []
    },
    {
      "cell_type": "code",
      "metadata": {
        "id": "pMFx7U1m_GeU"
      },
      "source": [
        "- com valores aleatórios"
      ],
      "execution_count": null,
      "outputs": []
    },
    {
      "cell_type": "code",
      "metadata": {
        "id": "IRrAkVsK-vMr"
      },
      "source": [
        "import random\n",
        "\n",
        "lista = []\n",
        "\n",
        "lista.append(random.randint(0, 1000))\n",
        "lista.append(random.randint(0, 1000))\n",
        "lista.append(random.randint(0, 1000))\n",
        "\n",
        "print(\"Foram gerados: {}\".format(lista))\n",
        "print(\"O maior valor entre os números gerados é {}\".format(max(lista)))\n"
      ],
      "execution_count": null,
      "outputs": []
    },
    {
      "cell_type": "code",
      "metadata": {
        "id": "npspNh5qCkr0"
      },
      "source": [
        "- com input"
      ],
      "execution_count": null,
      "outputs": []
    },
    {
      "cell_type": "code",
      "metadata": {
        "id": "EK_dk7fGCtxf"
      },
      "source": [
        "lista = []\n",
        "\n",
        "lista.append(eval(input(\"Valor 1: \")))\n",
        "lista.append(eval(input(\"Valor 2: \")))\n",
        "lista.append(eval(input(\"Valor 3: \")))\n",
        "\n",
        "print(\"Valores:\", lista)\n",
        "print(\"O maior valor entre os números é\", max(lista))\n"
      ],
      "execution_count": null,
      "outputs": []
    },
    {
      "cell_type": "markdown",
      "metadata": {
        "id": "VYL95rO6J3pA"
      },
      "source": [
        "Exercício 5 - Faça um Programa que leia três números e mostre o maior e o menor deles."
      ]
    },
    {
      "cell_type": "markdown",
      "metadata": {
        "id": "EQ3xGCkcJ9ML"
      },
      "source": [
        "- com valores aleatórios"
      ]
    },
    {
      "cell_type": "code",
      "metadata": {
        "id": "o8ZzBY63J6vX"
      },
      "source": [
        "import random\n",
        "\n",
        "lista = []\n",
        "\n",
        "lista.append(random.randint(0, 1000))\n",
        "lista.append(random.randint(0, 1000))\n",
        "lista.append(random.randint(0, 1000))\n",
        "\n",
        "print(\"Foram gerados: {}\".format(lista))\n",
        "print(\"O maior valor entre os números gerados é {}, e o menor é {}\".format(max(lista), min(lista)))"
      ],
      "execution_count": null,
      "outputs": []
    },
    {
      "cell_type": "markdown",
      "metadata": {
        "id": "B4BS1_vjLgYT"
      },
      "source": [
        "- com input"
      ]
    },
    {
      "cell_type": "code",
      "metadata": {
        "id": "co-yDVPWLm3D"
      },
      "source": [
        "lista = []\n",
        "\n",
        "lista.append(eval(input(\"Valor 1: \")))\n",
        "lista.append(eval(input(\"Valor 2: \")))\n",
        "lista.append(eval(input(\"Valor 3: \")))\n",
        "\n",
        "print(\"Valores:\", lista)\n",
        "print(\"O maior valor entre os números é {}, e o menor é {}\".format(max(lista), min(lista)))"
      ],
      "execution_count": null,
      "outputs": []
    },
    {
      "cell_type": "markdown",
      "metadata": {
        "id": "G6W4cxN-LyND"
      },
      "source": [
        "Exercício 6 - Faça um Programa que pergunte quanto você ganha por hora e o número de horas trabalhadas no mês. Calcule\n",
        "e mostre o total do seu salário no referido mês, sabendo-se que são descontados 11% para o Imposto de Renda,\n",
        "8% para o INSS e 5% para o sindicato, faça um programa que nos dê o salário bruto, quanto pagou ao INSS,\n",
        "quanto pagou ao sindicato e o salário líquido. Observe que Salário Bruto - Descontos = Salário Líquido. Calcule os\n",
        "descontos e o salário líquido, conforme a tabela abaixo:\n",
        "a. + Salário Bruto : R$\n",
        "b. - IR (11%) : R$\n",
        "c. - INSS (8%) : R$\n",
        "d. - Sindicato ( 5%) : R$\n",
        "e. = Salário Liquido : R$"
      ]
    },
    {
      "cell_type": "code",
      "metadata": {
        "id": "yOQSfn_wL7P-"
      },
      "source": [
        "ganha = eval(input(\"Quanto você ganha por hora? \"))\n",
        "horas = eval(input(\"Quantas horas você trabalha por mês? \"))\n",
        "\n",
        "bruto = ganha * horas\n",
        "ir = bruto * 0.11\n",
        "inss = bruto * 0.08\n",
        "sindicato = bruto * 0.05\n",
        "liquido = bruto - ir - inss - sindicato\n",
        "\n",
        "print(\"Salário bruto: R${}\".format(bruto))\n",
        "print(\"Imposto de renda: R${}\".format(ir))\n",
        "print(\"INSS: R${}\".format(inss))\n",
        "print(\"Sindicato: R${}\".format(sindicato))\n",
        "print(\"Liquido: R${}\".format(round(liquido, 2)))"
      ],
      "execution_count": null,
      "outputs": []
    },
    {
      "cell_type": "code",
      "metadata": {
        "id": "FZlhQjbhO0F4"
      },
      "source": [
        "Exercício 7 - Faça um programa para uma loja de tintas. O programa deverá pedir o tamanho em metros quadrados da área a\n",
        "ser pintada. Considere que a cobertura da tinta é de 1 litro para cada 3 metros quadrados e que a tinta é vendida\n",
        "em latas de 18 litros, que custam R$ 80,00. Informe ao usuário a quantidades de latas de tinta a serem\n",
        "compradas e o preço total. Obs. : somente são vendidos um número inteiro de latas."
      ],
      "execution_count": null,
      "outputs": []
    },
    {
      "cell_type": "code",
      "metadata": {
        "id": "tsGA1MYnO-h8"
      },
      "source": [
        "tamanho = eval(input(\"Insira o tamanho, em M², da área a ser pintada: \"))\n",
        "\n",
        "if tamanho % 54 == 0:\n",
        "  latas = tamanho / 54\n",
        "else:\n",
        "  latas = tamanho // 54 + 1\n",
        "\n",
        "valor = latas * 80\n",
        "\n",
        "if latas == 1:\n",
        "  print(\"Será necessária {} lata, custando um total de R${}\".format(int(latas), valor))\n",
        "else:\n",
        "  print(\"Serão necessárias {} latas, custando um total de R${}\".format(int(latas), valor))"
      ],
      "execution_count": null,
      "outputs": []
    }
  ]
}