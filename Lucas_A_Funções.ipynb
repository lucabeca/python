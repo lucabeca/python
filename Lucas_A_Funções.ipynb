{
  "nbformat": 4,
  "nbformat_minor": 0,
  "metadata": {
    "colab": {
      "name": "Lucas A. - Funções.ipynb",
      "provenance": [],
      "authorship_tag": "ABX9TyPK5zjnk1ucUtWNeDWpCvLp",
      "include_colab_link": true
    },
    "kernelspec": {
      "name": "python3",
      "display_name": "Python 3"
    },
    "language_info": {
      "name": "python"
    }
  },
  "cells": [
    {
      "cell_type": "markdown",
      "metadata": {
        "id": "view-in-github",
        "colab_type": "text"
      },
      "source": [
        "<a href=\"https://colab.research.google.com/github/lucabeca/python/blob/master/Lucas_A_Fun%C3%A7%C3%B5es.ipynb\" target=\"_parent\"><img src=\"https://colab.research.google.com/assets/colab-badge.svg\" alt=\"Open In Colab\"/></a>"
      ]
    },
    {
      "cell_type": "code",
      "metadata": {
        "id": "9dY2crwhjRuT"
      },
      "source": [
        "1 - Faça uma função para converter uma temperatura em graus Fahrenheit para\n",
        "Celsius. A temperatura em Fahrenheit é o dado de entrada e a temperatura em\n",
        "Celsius é o dado de saída. Utilize a fórmula C = (F - 32) * 5/9, onde F é a\n",
        "temperatura em Fahrenheit e C é a temperatura em Celsius."
      ],
      "execution_count": null,
      "outputs": []
    },
    {
      "cell_type": "code",
      "metadata": {
        "id": "Wpi82IvqjTUw"
      },
      "source": [
        "from random import randint\n",
        "\n",
        "def conversor_c_f(f):\n",
        "  print(f'O valor em Fahrenheit é de {em_f}ºF')\n",
        "  return print(f'O valor em Celsius é de {round((f - 32) * 5/9, 2)} ºC')\n",
        "\n",
        "em_f = randint(32, 212)\n",
        "conversor_c_f(em_f)"
      ],
      "execution_count": null,
      "outputs": []
    },
    {
      "cell_type": "markdown",
      "metadata": {
        "id": "02BZUW3UlAxc"
      },
      "source": [
        "2 - Faça uma função que calcule a hipotenusa. Os catetos são os dados de entrada e\n",
        "a hipotenusa é o dado de saída.\n",
        "\n"
      ]
    },
    {
      "cell_type": "code",
      "metadata": {
        "id": "PurVAcWglGeM"
      },
      "source": [
        "from random import randint\n",
        "\n",
        "def hipotenusa(a, b):\n",
        "  print(f'O valor dos catetos são {a} cm e {b} cm')\n",
        "  return print(f'O valor da hipotenusa é ~= {round(((a ** 2) + (b ** 2)) ** 0.5, 2)} cm')\n",
        "\n",
        "a = randint(1, 30)\n",
        "b = randint(1, 30)\n",
        "hipotenusa(a, b)"
      ],
      "execution_count": null,
      "outputs": []
    },
    {
      "cell_type": "markdown",
      "metadata": {
        "id": "REycw6PAs_UV"
      },
      "source": [
        "3 - Escreva um programa para ler as notas das duas avaliações de um aluno no\n",
        "semestre. Faça uma função que receba as duas notas por parâmetro e calcule e\n",
        "escreva a média semestral e a mensagem “PARABÉNS! Você foi aprovado!”\n",
        "somente se o aluno foi aprovado (considere 6.0 a média mínima para aprovação)."
      ]
    },
    {
      "cell_type": "code",
      "metadata": {
        "id": "XKqYDUuhtEln"
      },
      "source": [
        "from random import randint\n",
        "\n",
        "def media_final(a, b):\n",
        "  print(f'As notas geradas foram {a} e {b}')\n",
        "  print(f'A média gerada foi {round((a + b) / 2, 2)}')\n",
        "  if (a + b) / 2 >= 6:\n",
        "    return print('\\nPARABÉNS! Você foi aprovado!')\n",
        "  print('\\nVocê foi reprovado.')  \n",
        "\n",
        "a = randint(0, 100) / 10\n",
        "b = randint(0, 100) / 10\n",
        "media_final(a, b)"
      ],
      "execution_count": null,
      "outputs": []
    },
    {
      "cell_type": "markdown",
      "metadata": {
        "id": "LsciRRQLvnSG"
      },
      "source": [
        "4 - Faça um programa que leia a altura e o sexo (codificado da seguinte forma:\n",
        "1-feminino 2-masculino) de uma pessoa. Depois faça uma função chamada\n",
        "pesoideal que receba a altura e o sexo via parâmetro e que calcule e retorne seu\n",
        "peso ideal, utilizando as seguintes fórmulas:"
      ]
    },
    {
      "cell_type": "code",
      "metadata": {
        "id": "RfeAW3t6vpyK"
      },
      "source": [
        "from random import randint\n",
        "\n",
        "def peso_ideal(s, h):\n",
        "  if s == 2:\n",
        "    print(f'Foi gerado um input masculino, de altura {h} m')\n",
        "  if s == 1:\n",
        "    print(f'Foi gerado um input feminino, de altura {h} m')\n",
        "  if s is not 1 and s is not 2:\n",
        "    return print('O valor gerado é inválido. Só devem ser consideradores valores 1 ou 2, respectivamente feminino e masculino.')\n",
        "  if s == 2:\n",
        "    return print(f'Peso ideal: {round((72.7 * h) - 58, 2)} kg')\n",
        "  return print(f'Peso ideal: {round((62.1 * h) - 44.7, 2)} kg')\n",
        "\n",
        "s = randint(1, 3)\n",
        "h = randint(140, 190) / 100\n",
        "peso_ideal(s, h)"
      ],
      "execution_count": null,
      "outputs": []
    },
    {
      "cell_type": "markdown",
      "metadata": {
        "id": "7J5j0owWyffj"
      },
      "source": [
        "5 - Escreva um programa para ler o número de lados de um polígono regular e a\n",
        "medida do lado (em cm). Faça uma função que receba como parâmetro o número\n",
        "de lados e a medida do lado deste polígono e calcule e imprima o seguinte:"
      ]
    },
    {
      "cell_type": "code",
      "metadata": {
        "id": "3y80C_KryilH"
      },
      "source": [
        "from random import randint\n",
        "\n",
        "def lados(q, m):\n",
        "  print(f'Foram gerados os seguintes valores: {q} lados, de {m} cm cada.')\n",
        "  if q < 3 or q > 5:\n",
        "    return print('O valor gerado é inválido. Só devem ser consideradores valores entre 3 e 5.')\n",
        "  if q == 3:\n",
        "    return print(f'O dado em questão é um triângulo, de perímetro {m * 3} cm')\n",
        "  if q == 4:\n",
        "    return print(f'O dado em questão é um quadrado, de área {m * 4} cm')\n",
        "  return print(f'O dado em questão é um pentágono.')\n",
        "\n",
        "q = randint(2, 6)\n",
        "m = randint(5, 17)\n",
        "lados(q, m)"
      ],
      "execution_count": null,
      "outputs": []
    },
    {
      "cell_type": "markdown",
      "metadata": {
        "id": "qJnU92xV2e7H"
      },
      "source": [
        "6. Escreva uma função que recebe 2 números inteiros n1 e n2 como entrada e\n",
        "retorna a soma de todos os números inteiros contidos no intervalo [n1,n2]. Use\n",
        "esta função em um programa que lê n1 e n2 do usuário e imprime a soma."
      ]
    },
    {
      "cell_type": "code",
      "metadata": {
        "id": "AJBaN60m2fqu"
      },
      "source": [
        "from random import randint\n",
        "\n",
        "def calc_intervalo(a, b):\n",
        "  soma = 0\n",
        "  for n in range(a + 1, b):\n",
        "    soma += n\n",
        "  return print(f'A soma dos valores no intervalo [{a},{b}] é {soma}')\n",
        "\n",
        "a = randint(0, 11)\n",
        "b = randint(11, 21)\n",
        "calc_intervalo(a, b)"
      ],
      "execution_count": null,
      "outputs": []
    },
    {
      "cell_type": "markdown",
      "metadata": {
        "id": "ZDGs2JAw8EQ1"
      },
      "source": [
        "7. Escreva uma função que receba um número inteiro e imprima o mês\n",
        "correspondente ao número. Por exemplo, 2 corresponde a “fevereiro”. O\n",
        "procedimento deve mostrar uma mensagem de erro caso o número recebido não\n",
        "faça sentido. Gere também um programa que leia um valor e chame a função\n",
        "criada."
      ]
    },
    {
      "cell_type": "code",
      "metadata": {
        "id": "b09JRZi-8GKF"
      },
      "source": [
        "from random import randint\n",
        "\n",
        "meses = {\n",
        "    0: 'janeiro',\n",
        "    1: 'fevereiro',\n",
        "    2: 'março',\n",
        "    3: 'abril',\n",
        "    4: 'maio',\n",
        "    5: 'junho',\n",
        "    6: 'julho',\n",
        "    7: 'agosto',\n",
        "    8: 'setembro',\n",
        "    9: 'outubro',\n",
        "    10: 'novembro',\n",
        "    11: 'dezembro',\n",
        "}\n",
        "\n",
        "def mes(a):\n",
        "  if a not in meses:\n",
        "    return print(f'O mês {a} não representa um mês válido.')\n",
        "  return print(f'O mês {a + 1} é o mês \"{meses[a]}\".')\n",
        "\n",
        "mes(randint(0, 16))"
      ],
      "execution_count": null,
      "outputs": []
    },
    {
      "cell_type": "markdown",
      "metadata": {
        "id": "Czg18jnEAmsI"
      },
      "source": [
        "8. Escreva uma função que receba um número natural e imprima os três primeiros\n",
        "caracteres do dia da semana correspondente ao número. Por exemplo, 7\n",
        "corresponde a “SAB”. O procedimento deve mostrar uma mensagem de erro caso\n",
        "o número recebido não corresponda a um dia da semana. Gere também um\n",
        "programa que utilize essa função, chamando-a, mas antes lendo um valor para\n",
        "passagem de parâmetro."
      ]
    },
    {
      "cell_type": "code",
      "metadata": {
        "id": "EWI5kRAdApKV"
      },
      "source": [
        "from random import randint\n",
        "\n",
        "dias = {\n",
        "    0: 'DOM',\n",
        "    1: 'SEG',\n",
        "    2: 'TER',\n",
        "    3: 'QUA',\n",
        "    4: 'QUI',\n",
        "    5: 'SEX',\n",
        "    6: 'SAB',\n",
        "}\n",
        "\n",
        "def dia (a):\n",
        "  if a not in dias:\n",
        "    return print(f'O dia {a} não representa um dia válido.')\n",
        "  return print(f'O dia {a + 1} é o dia \"{dias[a]}\".')\n",
        "\n",
        "dia(randint(0, 12))"
      ],
      "execution_count": null,
      "outputs": []
    },
    {
      "cell_type": "markdown",
      "metadata": {
        "id": "G2_wV27jGNcJ"
      },
      "source": [
        "9. Escreva uma função que receba dois números inteiros x e y. Essa função deve\n",
        "verificar se x é divisível por y. No caso positivo, a função deve retornar 1, caso\n",
        "contrário zero. Escreva também um programa para testar tal função."
      ]
    },
    {
      "cell_type": "code",
      "metadata": {
        "id": "Ubrx6JsbGOsk"
      },
      "source": [
        "from random import randint\n",
        "\n",
        "def divisivel(x, y):\n",
        "  print(f'Valores:\\nX = {x}, Y = {y}\\n')\n",
        "  if x == 0 or y == 0:\n",
        "    return 0\n",
        "  if x % y == 0:\n",
        "    return 1\n",
        "  return 0\n",
        "\n",
        "divisivel(randint(0, 100), randint(0, 100))"
      ],
      "execution_count": null,
      "outputs": []
    },
    {
      "cell_type": "markdown",
      "metadata": {
        "id": "Juo_TFiaInWg"
      },
      "source": [
        "10. Criar uma função que calcule e retorne o MAIOR entre dois valores recebidos como\n",
        "parâmetros. Um programa para testar tal função deve ser criado."
      ]
    },
    {
      "cell_type": "code",
      "metadata": {
        "id": "CcT_w41zIps7"
      },
      "source": [
        "from random import randint\n",
        "\n",
        "def maior(a, b):\n",
        "  print(f'Os valores gerados foram: {a}, {b}')\n",
        "  if a > b:\n",
        "    return print(f'O maior valor é {a}')\n",
        "  return print(f'O maior valor é {b}')\n",
        "\n",
        "maior(randint(0, 100), randint(0, 100))"
      ],
      "execution_count": null,
      "outputs": []
    },
    {
      "cell_type": "markdown",
      "metadata": {
        "id": "FiaBRZM9psjN"
      },
      "source": [
        "11. Crie uma função que realize a conversão de Polegadas (pol) para Centímetros\n",
        "(cm), onde pol é passado como parâmetro e cm é retornado. Sabe-se que 1\n",
        "polegada tem 2.54 centímetros. Crie também um programa para testar tal função."
      ]
    },
    {
      "cell_type": "code",
      "metadata": {
        "id": "kej58FVhqOc-"
      },
      "source": [
        "from random import randint\n",
        "\n",
        "def conversor_pol(pol):\n",
        "  print(f'O valor gerado foi: {pol} pol')\n",
        "  return print(f'{pol} polegadas são equivalentes a {pol * 2.54} cm')\n",
        "\n",
        "conversor_pol(randint(0, 100))"
      ],
      "execution_count": null,
      "outputs": []
    }
  ]
}