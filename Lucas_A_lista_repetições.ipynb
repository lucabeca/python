{
  "nbformat": 4,
  "nbformat_minor": 0,
  "metadata": {
    "colab": {
      "name": "Lucas A. - lista repetições.ipynb",
      "provenance": [],
      "authorship_tag": "ABX9TyMBcgpnQsCHnWNsiYN7r616",
      "include_colab_link": true
    },
    "kernelspec": {
      "name": "python3",
      "display_name": "Python 3"
    },
    "language_info": {
      "name": "python"
    }
  },
  "cells": [
    {
      "cell_type": "markdown",
      "metadata": {
        "id": "view-in-github",
        "colab_type": "text"
      },
      "source": [
        "<a href=\"https://colab.research.google.com/github/lucabeca/python/blob/master/Lucas_A_lista_repeti%C3%A7%C3%B5es.ipynb\" target=\"_parent\"><img src=\"https://colab.research.google.com/assets/colab-badge.svg\" alt=\"Open In Colab\"/></a>"
      ]
    },
    {
      "cell_type": "markdown",
      "metadata": {
        "id": "Ihw3iduKy0VY"
      },
      "source": [
        "1) Inicializar um vetor de inteiros com números de 0 a 99."
      ]
    },
    {
      "cell_type": "code",
      "metadata": {
        "id": "xs2DJ8ft5oGN"
      },
      "source": [
        "lista = []\n",
        "\n",
        "for i in range(100):\n",
        "  lista.append(i)\n",
        "\n",
        "print (lista)"
      ],
      "execution_count": null,
      "outputs": []
    },
    {
      "cell_type": "markdown",
      "metadata": {
        "id": "O2netSIgzMw8"
      },
      "source": [
        "2) Escreva um algoritmo que leia um conjunto de 10 notas, armazene-as em uma variável\n",
        "composta chamada NOTA e calcule e imprima a sua média."
      ]
    },
    {
      "cell_type": "code",
      "metadata": {
        "id": "GArx4GKqzNRX"
      },
      "source": [
        "from random import randint #import da ferramenta para números aleatórios\n",
        "\n",
        "media = 0.0 #definindo a variável em float, já que terão valores decimais\n",
        "notas = [] #lista vazia\n",
        "\n",
        "for i in range(10): #função para gerar a uma lista com 10 notas aleatórias\n",
        "  notas.append(randint(50, 100)/ 10) #o randint não trabalha com decimais, então é necessário dividir o valor da nota por 10\n",
        "\n",
        "media = round(sum(notas) / len(notas), 2) #calcula a média, utilizando sum (calcula os elementos de uma lista) e len (divide os elementos de uma lista), o round arredonda a 2 casas\n",
        "print('As notas foram {}\\n\\nA média é {}.'.format(notas, media))"
      ],
      "execution_count": null,
      "outputs": []
    },
    {
      "cell_type": "markdown",
      "metadata": {
        "id": "TIFzxiFy0wjo"
      },
      "source": [
        "3) Repita o algoritmo acima, porém imprima quantos valores estão acima da média."
      ]
    },
    {
      "cell_type": "code",
      "metadata": {
        "id": "euA___6o9iKZ"
      },
      "source": [
        "from random import randint #import da ferramenta para números aleatórios\n",
        "\n",
        "media = 0.0 #definindo a variável em float, já que terão valores decimais\n",
        "notas = [] #lista vazia\n",
        "\n",
        "for i in range(10): #função para gerar a uma lista com 10 notas aleatórias\n",
        "  notas.append(randint(50, 100)/ 10) #o randint não trabalha com decimais, então é necessário dividir o valor da nota por 10\n",
        "\n",
        "media = round(sum(notas) / len(notas), 2) #calcula a média, utilizando sum (calcula os elementos de uma lista) e len (divide os elementos de uma lista), o round arredonda a 2 casas\n",
        "acima_m = 0 #variável definida como int, porque serão apenas valores inteiros. (impossível ter, por exemplo, 3.5 notas acima da média)\n",
        "\n",
        "for n in notas:\n",
        "  if n > media:\n",
        "    acima_m += 1 #se a nota em questão estiver acima da média, será adicionado mais um na contagem\n",
        "\n",
        "print(f'As notas foram {notas}\\n\\nA média é {media} e {acima_m} estiveram acima da média.')"
      ],
      "execution_count": null,
      "outputs": []
    },
    {
      "cell_type": "markdown",
      "metadata": {
        "id": "CLkaS8rN10zo"
      },
      "source": [
        "4) Faça um algoritmo que leia um vetor que contém as notas de 30 alunos. Imprima o maior\n",
        "valor, o menor valor, a média da turma e a quantidade de notas abaixo da média."
      ]
    },
    {
      "cell_type": "code",
      "metadata": {
        "id": "dCD48H5C11aA"
      },
      "source": [
        "from random import randint #import da ferramenta para números aleatórios\n",
        "\n",
        "maior = 0.0 #definindo a variável em float, já que terão valores decimais\n",
        "menor = 0.0 #definindo a variável em float, já que terão valores decimais\n",
        "média = 0.0 #definindo a variável em float, já que terão valores decimais\n",
        "abaixo_m = 0 #variável definida como int, porque serão apenas valores inteiros.\n",
        "notas = [] #lista vazia\n",
        "\n",
        "for i in range(30): #função para gerar a uma lista com 30 notas aleatórias\n",
        "  notas.append(randint(50, 100)/ 10) #o randint não trabalha com decimais, então é necessário dividir o valor da nota por 10\n",
        "\n",
        "media = round(sum(notas) / len(notas), 2) #calcula a média, utilizando sum (calcula os elementos de uma lista) e len (divide os elementos de uma lista), o round arredonda a 2 casas\n",
        "\n",
        "for n in notas:\n",
        "  if n < media:\n",
        "    abaixo_m += 1 #se a nota estiver abaixo da média, adiciona mais um na contagem\n",
        "\n",
        "menor = min(notas) #função que verifica o menor valor dentro de uma lista\n",
        "maior = max(notas) #função que verifica o maior valor dentro de uma lista\n",
        "\n",
        "print('As notas foram {}\\n\\nA média é {}, o menor valor é {}, o maior valor é {}, e {} notas estão abaixo da média.'.format(notas, media, menor, maior, abaixo_m))"
      ],
      "execution_count": null,
      "outputs": []
    },
    {
      "cell_type": "markdown",
      "metadata": {
        "id": "BCTKSC2r5w8o"
      },
      "source": [
        "5) Ler um vetor de 100 elementos numéricos e verificar se existem elementos iguais a 30. Se\n",
        "existirem, escrever as posições em que estão armazenados."
      ]
    },
    {
      "cell_type": "code",
      "metadata": {
        "id": "E_KXe2eK5zoH"
      },
      "source": [
        "from random import randint #import da ferramenta para números aleatórios\n",
        "\n",
        "elementos = [] #lista vazia\n",
        "v = 0 #variável da contagem de elementos 30\n",
        "\n",
        "for i in range(100): #função para gerar a uma lista com 100 elementos numéricos aleatórios\n",
        "  elementos.append(randint(20, 40)) #valores aleatórios entre 20 e 40\n",
        "\n",
        "print('Foi gerada a lista {}\\n'.format(elementos))\n",
        "\n",
        "for i, e in enumerate(elementos): #este for trabalha com duas posições, o I [índice] (posição do elemento na lista) e com o E [elemento] (valor sendo consultado dentro da lista). \n",
        "  if e == 30:\n",
        "    print('Há um número 30 no elemento de índice',i) #se o elemento consultado for igual a 30, retorna o a posição dele dentro da lista\n",
        "    v += 1 #adiciona um na contagem de elementos 30\n",
        "\n",
        "print('\\nForam encontrados {} elementos de valor numérico 30.'.format(v))"
      ],
      "execution_count": null,
      "outputs": []
    },
    {
      "cell_type": "markdown",
      "metadata": {
        "id": "y-xYjUmR8aW6"
      },
      "source": [
        "6) Fazer um algoritmo que calcule e escreva o somatório dos valores armazenados numa variável\n",
        "composta unidimensional (vetor) A, de 100 elementos numéricos a serem lidos do dispositivo\n",
        "de entrada."
      ]
    },
    {
      "cell_type": "code",
      "metadata": {
        "id": "vo8WSWT48hE1"
      },
      "source": [
        "from random import randint #import da ferramenta para números aleatórios\n",
        "\n",
        "vetor = [] #lista vazia\n",
        "soma = 0 #variável int\n",
        "\n",
        "for i in range(100): #função para gerar a uma lista com 100 elementos numéricos aleatórios\n",
        "  vetor.append(randint(1, 100)) #valores aleatórios entre 1 e 100\n",
        "\n",
        "print('Foi gerada a lista {}\\n'.format(vetor))\n",
        "\n",
        "for n in vetor:\n",
        "  soma += n #adiciona o número em questão à variável de soma\n",
        "\n",
        "print('A soma dos 100 elementos gerados deu', soma)"
      ],
      "execution_count": null,
      "outputs": []
    },
    {
      "cell_type": "markdown",
      "metadata": {
        "id": "UV9XsghP-RrT"
      },
      "source": [
        "7) Escreva um algoritmo que leia um vetor de 200 valores numéricos reais e os imprima na\n",
        "ordem contrária em que foi lida."
      ]
    },
    {
      "cell_type": "code",
      "metadata": {
        "id": "ceQTlIih-aFM"
      },
      "source": [
        "from random import randint #import da ferramenta para números aleatórios\n",
        "\n",
        "vetor = []\n",
        "\n",
        "for i in range(200): #função para gerar a uma lista com 100 elementos numéricos aleatórios\n",
        "  vetor.append(randint(1, 100)) #valores aleatórios entre 1 e 100\n",
        "\n",
        "print('Foi gerada a lista {}\\n'.format(vetor))\n",
        "print('A ordem contrária é',vetor[::-1]) #a função [::-1] em python existe para realizar inversões."
      ],
      "execution_count": null,
      "outputs": []
    },
    {
      "cell_type": "markdown",
      "metadata": {
        "id": "XK4Ka7545SdY"
      },
      "source": [
        "8) Escreva um algoritmo para fazer a soma de dois vetores de 10 elementos reais lidos do\n",
        "teclado. O primeiro elemento do primeiro vetor deverá ser adicionado ao primeiro elemento do\n",
        "segundo vetor e, o resultado deverá ser acumulado em um terceiro vetor também de 10\n",
        "elementos. Imprimir os três vetores conforme layout de impressão abaixo:"
      ]
    },
    {
      "cell_type": "code",
      "metadata": {
        "id": "7CFbwDqoBEeP"
      },
      "source": [
        "from random import randint #import da ferramenta para números aleatórios\n",
        "\n",
        "vetor1 = [] #lista vazia\n",
        "vetor2 = [] #lista vazia\n",
        "vetor3 = [] #lista vazia\n",
        "\n",
        "for i in range(10): #função para gerar a uma lista com 10 elementos numéricos aleatórios\n",
        "  vetor1.append(randint(1, 10)) #valores aleatórios entre 1 e 10\n",
        "  vetor2.append(randint(1, 10)) #valores aleatórios entre 1 e 10\n",
        "\n",
        "print('O vetor 1 gerado foi {}\\nO vetor 2 gerado foi {}'.format(vetor1, vetor2))\n",
        "\n",
        "for n in range(len(vetor1)): #verifica os índices a partir da função (len), que retorna a quantidade de elementos dentro de um vetor. Neste caso, o range(len) serve pra criar uma contagem de 0 até a quantidade de itens dentro de uma lista, podendo variar. Escolhi utilizar range(len) pois se utilizasse range(10) o programa só funcionaria com listas de 10 números. \n",
        "  vetor3.append(vetor1[n] + vetor2[n]) #adiciona no vetor 3 os respectivos valores, de índice n, dos vetores 1 e 2\n",
        "\n",
        "print('O vetor 3 é {}'.format(vetor3))"
      ],
      "execution_count": null,
      "outputs": []
    },
    {
      "cell_type": "markdown",
      "metadata": {
        "id": "gkVc_RhiFEWa"
      },
      "source": [
        "9) Fazer um algoritmo que:\n",
        "a) Leia duas variáveis compostas unidimensionais, contendo, cada uma, 25 elementos numéricos;\n",
        "b) intercale os elementos desses dois conjuntos formando uma nova variável composta\n",
        "unidimensional de 50 elementos;\n",
        "c) Escreva o resultado obtido."
      ]
    },
    {
      "cell_type": "code",
      "metadata": {
        "id": "74PTYs-6FFFK"
      },
      "source": [
        "from random import randint\n",
        "\n",
        "lista1 = [] #lista vazia\n",
        "lista2 = [] #lista vazia\n",
        "lista3 = [] #lista vazia\n",
        "\n",
        "for i in range(25): #função para gerar a uma lista com 25 elementos numéricos aleatórios\n",
        "  lista1.append(randint(1, 10)) #valores aleatórios entre 1 e 10\n",
        "  lista2.append(randint(1, 10)) #valores aleatórios entre 1 e 10\n",
        "\n",
        "print(f'A lista 1 gerada foi {lista1}')\n",
        "print(f'A lista 2 gerada foi {lista2}')\n",
        "\n",
        "for i in range(len(lista1)): #intercala as duas listas a partir do índice trabalhado\n",
        "  lista3.append(lista1[i]) #adiciona primeiro o elemento da lista 1 com o índice trabalhado\n",
        "  lista3.append(lista2[i]) #adiciona o elemento de lista 2 com o índice trabalhado\n",
        "\n",
        "print(f'A lista 3 gerada foi {lista3}')"
      ],
      "execution_count": null,
      "outputs": []
    },
    {
      "cell_type": "markdown",
      "metadata": {
        "id": "qx_hogfzJHqi"
      },
      "source": [
        "11) Faça um algoritmo que leia um conjunto de 10 elementos reais e os coloque em um vetor.\n",
        "Construa um segundo vetor formado da seguinte maneira:\n",
        "• Os elementos de ordem par são os correspondentes do primeiro vetor multiplicados por 3.\n",
        "• Os elementos de ordem ímpar são os correspondentes do primeiro vetor divididos por 2.\n",
        "• Imprima os dois vetores."
      ]
    },
    {
      "cell_type": "code",
      "metadata": {
        "id": "RGtBg7xFJKDC"
      },
      "source": [
        "from random import randint #import da ferramenta para números aleatórios\n",
        "\n",
        "lista1 = [] #lista vazia\n",
        "lista2 = [] #lista vazia\n",
        "\n",
        "for i in range(10): #função para gerar a uma lista com 10 elementos numéricos aleatórios\n",
        "  lista1.append(randint(1, 10)) #valores aleatórios entre 1 e 10\n",
        "\n",
        "print(f'A lista 1 gerada foi {lista1}')\n",
        "\n",
        "for i in range(len(lista1)):\n",
        "  if lista1[i] % 2 == 0: #verificação de par\n",
        "    lista2.append(lista1[i] * 3) #se for par, adiciona o valor relacionado ao índice atual multiplicado por 3\n",
        "  else:\n",
        "    lista2.append(lista1[i] / 2) #se não for par, divide o valor por 2 e adiciona na lista\n",
        "\n",
        "print(f'A lista 2 gerada foi {lista2}')"
      ],
      "execution_count": null,
      "outputs": []
    }
  ]
}